{
 "cells": [
  {
   "cell_type": "markdown",
   "metadata": {
    "toc": "true"
   },
   "source": [
    " # Table of Contents\n",
    "<div class=\"toc\" style=\"margin-top: 1em;\"><ul class=\"toc-item\" id=\"toc-level0\"><li><span><a href=\"http://localhost:8888/notebooks/my_lesson4.ipynb#Prepare-data\" data-toc-modified-id=\"Prepare-data-1\"><span class=\"toc-item-num\">1&nbsp;&nbsp;</span>Prepare data</a></span></li><li><span><a href=\"http://localhost:8888/notebooks/my_lesson4.ipynb#Create-simple-dot-product-model-with-functional-API\" data-toc-modified-id=\"Create-simple-dot-product-model-with-functional-API-2\"><span class=\"toc-item-num\">2&nbsp;&nbsp;</span>Create simple dot product model with functional API</a></span></li><li><span><a href=\"http://localhost:8888/notebooks/my_lesson4.ipynb#Adding-bias\" data-toc-modified-id=\"Adding-bias-3\"><span class=\"toc-item-num\">3&nbsp;&nbsp;</span>Adding bias</a></span></li><li><span><a href=\"http://localhost:8888/notebooks/my_lesson4.ipynb#Explore-the-output...\" data-toc-modified-id=\"Explore-the-output...-4\"><span class=\"toc-item-num\">4&nbsp;&nbsp;</span>Explore the output...</a></span></li><li><span><a href=\"http://localhost:8888/notebooks/my_lesson4.ipynb#Neural-net\" data-toc-modified-id=\"Neural-net-5\"><span class=\"toc-item-num\">5&nbsp;&nbsp;</span>Neural net</a></span></li></ul></div>"
   ]
  },
  {
   "cell_type": "markdown",
   "metadata": {},
   "source": [
    "# Embeddings and collaborative filtering\n",
    "\n",
    "**To Do**\n",
    "1. Get movielense data and prepare for embedding input. **DONE**\n",
    "2. Create simple dot product model using functional API\n",
    "3. Add bias term\n",
    "4. Analyze results\n",
    "5. Create neural net"
   ]
  },
  {
   "cell_type": "code",
   "execution_count": 16,
   "metadata": {},
   "outputs": [],
   "source": [
    "# Imports\n",
    "from __future__ import division, print_function\n",
    "import pandas as pd\n",
    "import numpy as np\n",
    "from keras.models import Model\n",
    "from keras.layers import Input, Embedding, merge\n",
    "from keras.layers.core import Flatten, Dense, Dropout\n",
    "from keras.regularizers import l2\n",
    "from keras.optimizers import Adam"
   ]
  },
  {
   "cell_type": "code",
   "execution_count": 5,
   "metadata": {
    "collapsed": true
   },
   "outputs": [],
   "source": [
    "# Basic setup\n",
    "path = \"/Users/stephanrasp/repositories/courses/data/movielens/ml-latest-small/\"   # Mac"
   ]
  },
  {
   "cell_type": "markdown",
   "metadata": {},
   "source": [
    "## Prepare data "
   ]
  },
  {
   "cell_type": "code",
   "execution_count": 6,
   "metadata": {},
   "outputs": [
    {
     "data": {
      "text/html": [
       "<div>\n",
       "<style>\n",
       "    .dataframe thead tr:only-child th {\n",
       "        text-align: right;\n",
       "    }\n",
       "\n",
       "    .dataframe thead th {\n",
       "        text-align: left;\n",
       "    }\n",
       "\n",
       "    .dataframe tbody tr th {\n",
       "        vertical-align: top;\n",
       "    }\n",
       "</style>\n",
       "<table border=\"1\" class=\"dataframe\">\n",
       "  <thead>\n",
       "    <tr style=\"text-align: right;\">\n",
       "      <th></th>\n",
       "      <th>userId</th>\n",
       "      <th>movieId</th>\n",
       "      <th>rating</th>\n",
       "      <th>timestamp</th>\n",
       "    </tr>\n",
       "  </thead>\n",
       "  <tbody>\n",
       "    <tr>\n",
       "      <th>0</th>\n",
       "      <td>1</td>\n",
       "      <td>31</td>\n",
       "      <td>2.5</td>\n",
       "      <td>1260759144</td>\n",
       "    </tr>\n",
       "    <tr>\n",
       "      <th>1</th>\n",
       "      <td>1</td>\n",
       "      <td>1029</td>\n",
       "      <td>3.0</td>\n",
       "      <td>1260759179</td>\n",
       "    </tr>\n",
       "    <tr>\n",
       "      <th>2</th>\n",
       "      <td>1</td>\n",
       "      <td>1061</td>\n",
       "      <td>3.0</td>\n",
       "      <td>1260759182</td>\n",
       "    </tr>\n",
       "    <tr>\n",
       "      <th>3</th>\n",
       "      <td>1</td>\n",
       "      <td>1129</td>\n",
       "      <td>2.0</td>\n",
       "      <td>1260759185</td>\n",
       "    </tr>\n",
       "    <tr>\n",
       "      <th>4</th>\n",
       "      <td>1</td>\n",
       "      <td>1172</td>\n",
       "      <td>4.0</td>\n",
       "      <td>1260759205</td>\n",
       "    </tr>\n",
       "  </tbody>\n",
       "</table>\n",
       "</div>"
      ],
      "text/plain": [
       "   userId  movieId  rating   timestamp\n",
       "0       1       31     2.5  1260759144\n",
       "1       1     1029     3.0  1260759179\n",
       "2       1     1061     3.0  1260759182\n",
       "3       1     1129     2.0  1260759185\n",
       "4       1     1172     4.0  1260759205"
      ]
     },
     "execution_count": 6,
     "metadata": {},
     "output_type": "execute_result"
    }
   ],
   "source": [
    "ratings = pd.read_csv(path + 'ratings.csv')\n",
    "ratings.head()"
   ]
  },
  {
   "cell_type": "code",
   "execution_count": 8,
   "metadata": {},
   "outputs": [
    {
     "data": {
      "text/plain": [
       "(671, 9066)"
      ]
     },
     "execution_count": 8,
     "metadata": {},
     "output_type": "execute_result"
    }
   ],
   "source": [
    "users = ratings.userId.unique()\n",
    "movies = ratings.movieId.unique()\n",
    "len(users), len(movies)"
   ]
  },
  {
   "cell_type": "code",
   "execution_count": 9,
   "metadata": {
    "collapsed": true
   },
   "outputs": [],
   "source": [
    "# So what now...\n",
    "# We update the movie and user ids so they are contiguous integers\n",
    "# I guess we need that for the embeddings\n",
    "userid2idx = {o:i for i, o in enumerate(users)}\n",
    "movieid2idx = {o:i for i, o in enumerate(movies)}"
   ]
  },
  {
   "cell_type": "code",
   "execution_count": 10,
   "metadata": {
    "collapsed": true
   },
   "outputs": [],
   "source": [
    "ratings.movieId = ratings.movieId.apply(lambda x: movieid2idx[x])\n",
    "ratings.userId = ratings.userId.apply(lambda x: userid2idx[x])"
   ]
  },
  {
   "cell_type": "code",
   "execution_count": 11,
   "metadata": {},
   "outputs": [
    {
     "data": {
      "text/html": [
       "<div>\n",
       "<style>\n",
       "    .dataframe thead tr:only-child th {\n",
       "        text-align: right;\n",
       "    }\n",
       "\n",
       "    .dataframe thead th {\n",
       "        text-align: left;\n",
       "    }\n",
       "\n",
       "    .dataframe tbody tr th {\n",
       "        vertical-align: top;\n",
       "    }\n",
       "</style>\n",
       "<table border=\"1\" class=\"dataframe\">\n",
       "  <thead>\n",
       "    <tr style=\"text-align: right;\">\n",
       "      <th></th>\n",
       "      <th>userId</th>\n",
       "      <th>movieId</th>\n",
       "      <th>rating</th>\n",
       "      <th>timestamp</th>\n",
       "    </tr>\n",
       "  </thead>\n",
       "  <tbody>\n",
       "    <tr>\n",
       "      <th>0</th>\n",
       "      <td>0</td>\n",
       "      <td>0</td>\n",
       "      <td>2.5</td>\n",
       "      <td>1260759144</td>\n",
       "    </tr>\n",
       "    <tr>\n",
       "      <th>1</th>\n",
       "      <td>0</td>\n",
       "      <td>1</td>\n",
       "      <td>3.0</td>\n",
       "      <td>1260759179</td>\n",
       "    </tr>\n",
       "    <tr>\n",
       "      <th>2</th>\n",
       "      <td>0</td>\n",
       "      <td>2</td>\n",
       "      <td>3.0</td>\n",
       "      <td>1260759182</td>\n",
       "    </tr>\n",
       "    <tr>\n",
       "      <th>3</th>\n",
       "      <td>0</td>\n",
       "      <td>3</td>\n",
       "      <td>2.0</td>\n",
       "      <td>1260759185</td>\n",
       "    </tr>\n",
       "    <tr>\n",
       "      <th>4</th>\n",
       "      <td>0</td>\n",
       "      <td>4</td>\n",
       "      <td>4.0</td>\n",
       "      <td>1260759205</td>\n",
       "    </tr>\n",
       "  </tbody>\n",
       "</table>\n",
       "</div>"
      ],
      "text/plain": [
       "   userId  movieId  rating   timestamp\n",
       "0       0        0     2.5  1260759144\n",
       "1       0        1     3.0  1260759179\n",
       "2       0        2     3.0  1260759182\n",
       "3       0        3     2.0  1260759185\n",
       "4       0        4     4.0  1260759205"
      ]
     },
     "execution_count": 11,
     "metadata": {},
     "output_type": "execute_result"
    }
   ],
   "source": [
    "ratings.head()"
   ]
  },
  {
   "cell_type": "code",
   "execution_count": 13,
   "metadata": {
    "collapsed": true
   },
   "outputs": [],
   "source": [
    "# Now let's split into test and train set\n",
    "mask = np.random.rand(len(ratings)) < 0.8\n",
    "train = ratings[mask]\n",
    "valid = ratings[~mask]"
   ]
  },
  {
   "cell_type": "code",
   "execution_count": 14,
   "metadata": {},
   "outputs": [
    {
     "data": {
      "text/plain": [
       "(80100, 19904)"
      ]
     },
     "execution_count": 14,
     "metadata": {},
     "output_type": "execute_result"
    }
   ],
   "source": [
    "len(train), len(valid)"
   ]
  },
  {
   "cell_type": "markdown",
   "metadata": {},
   "source": [
    "## Create simple dot product model with functional API"
   ]
  },
  {
   "cell_type": "code",
   "execution_count": 21,
   "metadata": {},
   "outputs": [
    {
     "data": {
      "text/plain": [
       "(671, 9066)"
      ]
     },
     "execution_count": 21,
     "metadata": {},
     "output_type": "execute_result"
    }
   ],
   "source": [
    "n_users = ratings.userId.nunique()\n",
    "n_movies = ratings.movieId.nunique()\n",
    "n_users, n_movies"
   ]
  },
  {
   "cell_type": "code",
   "execution_count": 22,
   "metadata": {
    "collapsed": true
   },
   "outputs": [],
   "source": [
    "n_factors = 50   # Number of latent factors "
   ]
  },
  {
   "cell_type": "code",
   "execution_count": 45,
   "metadata": {
    "collapsed": true
   },
   "outputs": [],
   "source": [
    "# Now let's set up this model\n",
    "# First we need an input which is always one movieID and one userID\n",
    "user_in = Input(shape=(1,))\n",
    "movie_in = Input(shape=(1,))"
   ]
  },
  {
   "cell_type": "code",
   "execution_count": 46,
   "metadata": {
    "collapsed": true
   },
   "outputs": [],
   "source": [
    "# Then we need these embeddings\n",
    "user_emb = Embedding(n_users, n_factors, W_regularizer=l2(1e-4))(user_in)\n",
    "movie_emb = Embedding(n_movies, n_factors, W_regularizer=l2(1e-4))(movie_in)"
   ]
  },
  {
   "cell_type": "code",
   "execution_count": 47,
   "metadata": {},
   "outputs": [],
   "source": [
    "x = merge([user_emb, movie_emb], mode='dot')"
   ]
  },
  {
   "cell_type": "code",
   "execution_count": 48,
   "metadata": {},
   "outputs": [],
   "source": [
    "x = Flatten()(x)"
   ]
  },
  {
   "cell_type": "code",
   "execution_count": 49,
   "metadata": {},
   "outputs": [],
   "source": [
    "# Then create the model\n",
    "dot_model = Model([user_in, movie_in], x)"
   ]
  },
  {
   "cell_type": "code",
   "execution_count": 50,
   "metadata": {
    "collapsed": true
   },
   "outputs": [],
   "source": [
    "# And compile it\n",
    "dot_model.compile(Adam(0.01), 'mse')"
   ]
  },
  {
   "cell_type": "code",
   "execution_count": 60,
   "metadata": {},
   "outputs": [
    {
     "name": "stdout",
     "output_type": "stream",
     "text": [
      "Train on 80100 samples, validate on 19904 samples\n",
      "Epoch 1/1\n",
      "80100/80100 [==============================] - 31s - loss: 3.6748 - val_loss: 3.5567\n"
     ]
    },
    {
     "data": {
      "text/plain": [
       "<keras.callbacks.History at 0x121867910>"
      ]
     },
     "execution_count": 60,
     "metadata": {},
     "output_type": "execute_result"
    }
   ],
   "source": [
    "batch_size = 64\n",
    "dot_model.fit([train.userId, train.movieId], train.rating, \n",
    "              batch_size=batch_size, nb_epoch=1, \n",
    "              validation_data=[[valid.userId, valid.movieId], valid.rating])"
   ]
  },
  {
   "cell_type": "markdown",
   "metadata": {},
   "source": [
    "Ok, so I get a better score than Jeremy, but I am also horribly overfitting. So let's alleviate this.\n",
    "\n",
    "So increasing the batch size drastically speeds up the training a lot but also lowers the loss reduction per epoch. But I do get a lower Best score it seems. Hmm, this is interestings. "
   ]
  },
  {
   "cell_type": "markdown",
   "metadata": {},
   "source": [
    "## Adding bias"
   ]
  },
  {
   "cell_type": "code",
   "execution_count": 119,
   "metadata": {
    "collapsed": true
   },
   "outputs": [],
   "source": [
    "# Let's set up the same model again but with bias terms...\n",
    "user_in = Input(shape=(1,))\n",
    "movie_in = Input(shape=(1,))"
   ]
  },
  {
   "cell_type": "code",
   "execution_count": 120,
   "metadata": {
    "collapsed": true
   },
   "outputs": [],
   "source": [
    "user_emb = Embedding(n_users, n_factors, W_regularizer=l2(1e-4), \n",
    "                     input_length=1)(user_in)\n",
    "movie_emb = Embedding(n_movies, n_factors, W_regularizer=l2(1e-4), \n",
    "                      input_length=1)(movie_in)"
   ]
  },
  {
   "cell_type": "code",
   "execution_count": 121,
   "metadata": {},
   "outputs": [],
   "source": [
    "# I think I now have to add the bias terms\n",
    "user_bias = Embedding(n_users, 1, input_length=1)(user_in)\n",
    "movie_bias = Embedding(n_movies, 1, input_length=1)(movie_in)"
   ]
  },
  {
   "cell_type": "code",
   "execution_count": 122,
   "metadata": {
    "collapsed": true
   },
   "outputs": [],
   "source": [
    "user_bias = Flatten()(user_bias)\n",
    "movie_bias = Flatten()(movie_bias)"
   ]
  },
  {
   "cell_type": "code",
   "execution_count": 123,
   "metadata": {},
   "outputs": [],
   "source": [
    "x = merge([user_emb, movie_emb], mode='dot')"
   ]
  },
  {
   "cell_type": "code",
   "execution_count": 124,
   "metadata": {},
   "outputs": [],
   "source": [
    "x = Flatten()(x)"
   ]
  },
  {
   "cell_type": "code",
   "execution_count": 125,
   "metadata": {
    "collapsed": true
   },
   "outputs": [],
   "source": [
    "x = merge([x, user_bias], mode='sum')\n",
    "x = merge([x, movie_bias], mode='sum')"
   ]
  },
  {
   "cell_type": "code",
   "execution_count": 126,
   "metadata": {
    "collapsed": true
   },
   "outputs": [],
   "source": [
    "dot_model_with_bias = Model([user_in, movie_in], x)"
   ]
  },
  {
   "cell_type": "code",
   "execution_count": 127,
   "metadata": {
    "collapsed": true
   },
   "outputs": [],
   "source": [
    "dot_model_with_bias.compile(Adam(0.01), 'mse')"
   ]
  },
  {
   "cell_type": "code",
   "execution_count": 129,
   "metadata": {},
   "outputs": [
    {
     "name": "stdout",
     "output_type": "stream",
     "text": [
      "Train on 80100 samples, validate on 19904 samples\n",
      "Epoch 1/10\n",
      "80100/80100 [==============================] - 29s - loss: 0.9654 - val_loss: 1.2019\n",
      "Epoch 2/10\n",
      "80100/80100 [==============================] - 29s - loss: 0.9542 - val_loss: 1.2051\n",
      "Epoch 3/10\n",
      "80100/80100 [==============================] - 29s - loss: 0.9426 - val_loss: 1.1988\n",
      "Epoch 4/10\n",
      "80100/80100 [==============================] - 29s - loss: 0.9358 - val_loss: 1.2123\n",
      "Epoch 5/10\n",
      "80100/80100 [==============================] - 29s - loss: 0.9284 - val_loss: 1.2010\n",
      "Epoch 6/10\n",
      "80100/80100 [==============================] - 30s - loss: 0.9233 - val_loss: 1.2052\n",
      "Epoch 7/10\n",
      "80100/80100 [==============================] - 30s - loss: 0.9227 - val_loss: 1.2129\n",
      "Epoch 8/10\n",
      "80100/80100 [==============================] - 30s - loss: 0.9194 - val_loss: 1.2072\n",
      "Epoch 9/10\n",
      "80100/80100 [==============================] - 30s - loss: 0.9146 - val_loss: 1.2087\n",
      "Epoch 10/10\n",
      "80100/80100 [==============================] - 37s - loss: 0.9176 - val_loss: 1.2008\n"
     ]
    },
    {
     "data": {
      "text/plain": [
       "<keras.callbacks.History at 0x124bb9b50>"
      ]
     },
     "execution_count": 129,
     "metadata": {},
     "output_type": "execute_result"
    }
   ],
   "source": [
    "batch_size = 64\n",
    "dot_model_with_bias.optimizer.lr=0.001\n",
    "dot_model_with_bias.fit(\n",
    "    [train.userId, train.movieId], \n",
    "    train.rating, \n",
    "    batch_size=batch_size, \n",
    "    nb_epoch=10, \n",
    "    validation_data=[[valid.userId, valid.movieId], valid.rating],\n",
    ")"
   ]
  },
  {
   "cell_type": "code",
   "execution_count": null,
   "metadata": {
    "collapsed": true
   },
   "outputs": [],
   "source": [
    "# I don't really get this whole flattening business.."
   ]
  },
  {
   "cell_type": "markdown",
   "metadata": {},
   "source": [
    "## Explore the output..."
   ]
  },
  {
   "cell_type": "code",
   "execution_count": 131,
   "metadata": {},
   "outputs": [],
   "source": [
    "# Restrict to 2000 most popular movies\n",
    "g = ratings.groupby('movieId')['rating'].count()\n",
    "topMovies = g.sort_values(ascending=False)[:2000]\n",
    "topMovies = np.array(topMovies.index)"
   ]
  },
  {
   "cell_type": "code",
   "execution_count": 133,
   "metadata": {},
   "outputs": [],
   "source": [
    "# Get the learned weights, in particular the movie biases\n",
    "get_movie_bias = Model(movie_in, movie_bias)  # So these are from the graph above"
   ]
  },
  {
   "cell_type": "code",
   "execution_count": 134,
   "metadata": {
    "collapsed": true
   },
   "outputs": [],
   "source": [
    "biases = get_movie_bias.predict(topMovies)"
   ]
  },
  {
   "cell_type": "code",
   "execution_count": 135,
   "metadata": {
    "collapsed": true
   },
   "outputs": [],
   "source": [
    "# Now do some magic so that we get the movie names\n",
    "movie_names = pd.read_csv(path+'movies.csv').set_index('movieId')['title'].to_dict()"
   ]
  },
  {
   "cell_type": "code",
   "execution_count": 137,
   "metadata": {},
   "outputs": [],
   "source": [
    "movie_ratings = [(b[0], movie_names[movies[i]]) for i,b in zip(topMovies,biases)]"
   ]
  },
  {
   "cell_type": "code",
   "execution_count": 138,
   "metadata": {},
   "outputs": [
    {
     "data": {
      "text/plain": [
       "[(1.2869363, 'Forrest Gump (1994)'),\n",
       " (1.5347273, 'Pulp Fiction (1994)'),\n",
       " (1.8540565, 'Shawshank Redemption, The (1994)'),\n",
       " (1.544189, 'Silence of the Lambs, The (1991)'),\n",
       " (1.5551853, 'Star Wars: Episode IV - A New Hope (1977)')]"
      ]
     },
     "execution_count": 138,
     "metadata": {},
     "output_type": "execute_result"
    }
   ],
   "source": [
    "movie_ratings[:5]"
   ]
  },
  {
   "cell_type": "code",
   "execution_count": 140,
   "metadata": {},
   "outputs": [
    {
     "data": {
      "text/plain": [
       "[(-1.3430359, 'Battlefield Earth (2000)'),\n",
       " (-1.279649, 'Super Mario Bros. (1993)'),\n",
       " (-1.0247694, 'Jaws 3-D (1983)'),\n",
       " (-1.0155251, 'Police Academy 6: City Under Siege (1989)'),\n",
       " (-0.97901976, 'Mighty Morphin Power Rangers: The Movie (1995)'),\n",
       " (-0.95439267, 'Spice World (1997)'),\n",
       " (-0.86914134, 'Police Academy 5: Assignment: Miami Beach (1988)'),\n",
       " (-0.86761612, 'Police Academy 3: Back in Training (1986)'),\n",
       " (-0.81225383, 'Speed 2: Cruise Control (1997)'),\n",
       " (-0.80387968, 'Avengers, The (1998)'),\n",
       " (-0.77620196, 'Howard the Duck (1986)'),\n",
       " (-0.76154387, 'RoboCop 3 (1993)'),\n",
       " (-0.7593286, 'Bio-Dome (1996)'),\n",
       " (-0.73670113, 'House on Haunted Hill (1999)'),\n",
       " (-0.70962787, 'Anaconda (1997)')]"
      ]
     },
     "execution_count": 140,
     "metadata": {},
     "output_type": "execute_result"
    }
   ],
   "source": [
    "# Ahhh I get it\n",
    "from operator import itemgetter\n",
    "sorted(movie_ratings, key=itemgetter(0))[:15]"
   ]
  },
  {
   "cell_type": "code",
   "execution_count": 141,
   "metadata": {},
   "outputs": [
    {
     "data": {
      "text/plain": [
       "[(2.008496, 'Paradise Lost: The Child Murders at Robin Hood Hills (1996)'),\n",
       " (1.9751985, 'African Queen, The (1951)'),\n",
       " (1.9301219, \"Once Upon a Time in the West (C'era una volta il West) (1968)\"),\n",
       " (1.9016222,\n",
       "  'Fog of War: Eleven Lessons from the Life of Robert S. McNamara, The (2003)'),\n",
       " (1.8994795, 'Paths of Glory (1957)'),\n",
       " (1.8967917, 'Far from Heaven (2002)'),\n",
       " (1.8955195, 'Band of Brothers (2001)'),\n",
       " (1.8827574, 'Paris, Texas (1984)'),\n",
       " (1.8709689, 'Touch of Evil (1958)'),\n",
       " (1.8614258, 'Ran (1985)'),\n",
       " (1.8555335, 'Rebecca (1940)'),\n",
       " (1.8540565, 'Shawshank Redemption, The (1994)'),\n",
       " (1.8537581, 'Seventh Seal, The (Sjunde inseglet, Det) (1957)'),\n",
       " (1.8438414, 'Third Man, The (1949)'),\n",
       " (1.8426716, 'Great Dictator, The (1940)')]"
      ]
     },
     "execution_count": 141,
     "metadata": {},
     "output_type": "execute_result"
    }
   ],
   "source": [
    "sorted(movie_ratings, key=itemgetter(0), reverse=True)[:15]"
   ]
  },
  {
   "cell_type": "code",
   "execution_count": 142,
   "metadata": {
    "collapsed": true
   },
   "outputs": [],
   "source": [
    "# Do the same for the embeddings\n",
    "get_movie_emb = Model(movie_in, movie_emb)\n",
    "movie_emb = get_movie_emb.predict([topMovies])"
   ]
  },
  {
   "cell_type": "code",
   "execution_count": 143,
   "metadata": {},
   "outputs": [
    {
     "data": {
      "text/plain": [
       "(2000, 1, 50)"
      ]
     },
     "execution_count": 143,
     "metadata": {},
     "output_type": "execute_result"
    }
   ],
   "source": [
    "movie_emb.shape"
   ]
  },
  {
   "cell_type": "code",
   "execution_count": 144,
   "metadata": {
    "collapsed": true
   },
   "outputs": [],
   "source": [
    "movie_emb = np.squeeze(movie_emb)"
   ]
  },
  {
   "cell_type": "code",
   "execution_count": 145,
   "metadata": {
    "collapsed": true
   },
   "outputs": [],
   "source": [
    "from sklearn.decomposition import PCA\n",
    "pca = PCA(n_components=3)\n",
    "movie_pca = pca.fit(movie_emb.T).components_"
   ]
  },
  {
   "cell_type": "code",
   "execution_count": 146,
   "metadata": {},
   "outputs": [
    {
     "data": {
      "text/plain": [
       "(3, 2000)"
      ]
     },
     "execution_count": 146,
     "metadata": {},
     "output_type": "execute_result"
    }
   ],
   "source": [
    "movie_pca.shape"
   ]
  },
  {
   "cell_type": "code",
   "execution_count": 147,
   "metadata": {
    "collapsed": true
   },
   "outputs": [],
   "source": [
    "fac0 = movie_pca[0]\n",
    "movie_comp = [(f, movie_names[movies[i]]) for f,i in zip(fac0, topMovies)]"
   ]
  },
  {
   "cell_type": "code",
   "execution_count": 148,
   "metadata": {},
   "outputs": [
    {
     "data": {
      "text/plain": [
       "[(0.084199741, 'Apocalypse Now (1979)'),\n",
       " (0.080692954, 'Fargo (1996)'),\n",
       " (0.080456316, 'Pulp Fiction (1994)'),\n",
       " (0.074975364, 'Big Lebowski, The (1998)'),\n",
       " (0.072329663, 'Easy Rider (1969)'),\n",
       " (0.072274983, 'Goodfellas (1990)'),\n",
       " (0.072027408, 'American Psycho (2000)'),\n",
       " (0.071809612, 'Lost in Translation (2003)'),\n",
       " (0.071455263, 'Clockwork Orange, A (1971)'),\n",
       " (0.070462324, 'Royal Tenenbaums, The (2001)')]"
      ]
     },
     "execution_count": 148,
     "metadata": {},
     "output_type": "execute_result"
    }
   ],
   "source": [
    "sorted(movie_comp, key=itemgetter(0), reverse=True)[:10]"
   ]
  },
  {
   "cell_type": "code",
   "execution_count": 149,
   "metadata": {},
   "outputs": [
    {
     "data": {
      "text/plain": [
       "[(-0.088991426, 'Pearl Harbor (2001)'),\n",
       " (-0.068364277, 'Double Jeopardy (1999)'),\n",
       " (-0.066979334, 'Batman Forever (1995)'),\n",
       " (-0.064642921, 'Forever Young (1992)'),\n",
       " (-0.063483112, 'Independence Day (a.k.a. ID4) (1996)'),\n",
       " (-0.062966213, 'Con Air (1997)'),\n",
       " (-0.062631384, 'Shrek (2001)'),\n",
       " (-0.061947726, 'Entrapment (1999)'),\n",
       " (-0.061784845, 'Bodyguard, The (1992)'),\n",
       " (-0.061012696, 'Twister (1996)')]"
      ]
     },
     "execution_count": 149,
     "metadata": {},
     "output_type": "execute_result"
    }
   ],
   "source": [
    "sorted(movie_comp, key=itemgetter(0))[:10]"
   ]
  },
  {
   "cell_type": "markdown",
   "metadata": {},
   "source": [
    "## Neural net"
   ]
  },
  {
   "cell_type": "code",
   "execution_count": 163,
   "metadata": {
    "collapsed": true
   },
   "outputs": [],
   "source": [
    "movie_in = Input(shape=(1,))\n",
    "user_in = Input(shape=(1,))"
   ]
  },
  {
   "cell_type": "code",
   "execution_count": 164,
   "metadata": {
    "collapsed": true
   },
   "outputs": [],
   "source": [
    "movie_emb = Embedding(n_movies, n_factors)(movie_in)\n",
    "user_emb= Embedding(n_users, n_factors)(user_in)"
   ]
  },
  {
   "cell_type": "code",
   "execution_count": 165,
   "metadata": {},
   "outputs": [
    {
     "data": {
      "text/plain": [
       "<tf.Tensor 'Gather_48:0' shape=(?, 1, 50) dtype=float32>"
      ]
     },
     "execution_count": 165,
     "metadata": {},
     "output_type": "execute_result"
    }
   ],
   "source": [
    "movie_emb"
   ]
  },
  {
   "cell_type": "code",
   "execution_count": 166,
   "metadata": {},
   "outputs": [],
   "source": [
    "# Now concatenate them\n",
    "x = merge([movie_emb, user_emb], mode='concat')"
   ]
  },
  {
   "cell_type": "code",
   "execution_count": 167,
   "metadata": {},
   "outputs": [],
   "source": [
    "x = Flatten()(x)"
   ]
  },
  {
   "cell_type": "code",
   "execution_count": 168,
   "metadata": {
    "collapsed": true
   },
   "outputs": [],
   "source": [
    "# Now create the network\n",
    "x = Dense(70, activation='relu')(x)\n",
    "x = Dense(1, activation='linear')(x)"
   ]
  },
  {
   "cell_type": "code",
   "execution_count": 169,
   "metadata": {},
   "outputs": [
    {
     "data": {
      "text/plain": [
       "<tf.Tensor 'add_110:0' shape=(?, 1) dtype=float32>"
      ]
     },
     "execution_count": 169,
     "metadata": {},
     "output_type": "execute_result"
    }
   ],
   "source": [
    "x"
   ]
  },
  {
   "cell_type": "code",
   "execution_count": 173,
   "metadata": {
    "collapsed": true
   },
   "outputs": [],
   "source": [
    "nn_model = Model([user_in, movie_in], x)"
   ]
  },
  {
   "cell_type": "code",
   "execution_count": 174,
   "metadata": {
    "collapsed": true
   },
   "outputs": [],
   "source": [
    "nn_model.compile(Adam(0.001), 'mse')"
   ]
  },
  {
   "cell_type": "code",
   "execution_count": 175,
   "metadata": {},
   "outputs": [
    {
     "name": "stdout",
     "output_type": "stream",
     "text": [
      "Train on 80100 samples, validate on 19904 samples\n",
      "Epoch 1/1\n",
      "80100/80100 [==============================] - 18s - loss: 1.4636 - val_loss: 0.8285\n"
     ]
    },
    {
     "data": {
      "text/plain": [
       "<keras.callbacks.History at 0x12bb40bd0>"
      ]
     },
     "execution_count": 175,
     "metadata": {},
     "output_type": "execute_result"
    }
   ],
   "source": [
    "nn_model.fit(\n",
    "    [train.userId, train.movieId], \n",
    "    train.rating, \n",
    "    batch_size=batch_size, \n",
    "    nb_epoch=1, \n",
    "    validation_data=[[valid.userId, valid.movieId], valid.rating],\n",
    ")"
   ]
  },
  {
   "cell_type": "code",
   "execution_count": null,
   "metadata": {
    "collapsed": true
   },
   "outputs": [],
   "source": []
  }
 ],
 "metadata": {
  "kernelspec": {
   "display_name": "Python 2",
   "language": "python",
   "name": "python2"
  },
  "language_info": {
   "codemirror_mode": {
    "name": "ipython",
    "version": 2
   },
   "file_extension": ".py",
   "mimetype": "text/x-python",
   "name": "python",
   "nbconvert_exporter": "python",
   "pygments_lexer": "ipython2",
   "version": "2.7.13"
  },
  "toc": {
   "nav_menu": {},
   "number_sections": true,
   "sideBar": true,
   "skip_h1_title": true,
   "toc_cell": true,
   "toc_position": {},
   "toc_section_display": "block",
   "toc_window_display": false
  }
 },
 "nbformat": 4,
 "nbformat_minor": 2
}
