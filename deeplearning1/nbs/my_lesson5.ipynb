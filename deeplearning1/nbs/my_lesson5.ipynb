{
 "cells": [
  {
   "cell_type": "markdown",
   "metadata": {
    "toc": "true"
   },
   "source": [
    " # Table of Contents\n",
    "<div class=\"toc\" style=\"margin-top: 1em;\"><ul class=\"toc-item\" id=\"toc-level0\"><li><span><a href=\"http://localhost:8888/notebooks/my_lesson5.ipynb#Get-and-prepare-dataset\" data-toc-modified-id=\"Get-and-prepare-dataset-1\"><span class=\"toc-item-num\">1&nbsp;&nbsp;</span>Get and prepare dataset</a></span></li><li><span><a href=\"http://localhost:8888/notebooks/my_lesson5.ipynb#Truncate-vocab-and-convert-to-numpy-array\" data-toc-modified-id=\"Truncate-vocab-and-convert-to-numpy-array-2\"><span class=\"toc-item-num\">2&nbsp;&nbsp;</span>Truncate vocab and convert to numpy array</a></span></li><li><span><a href=\"http://localhost:8888/notebooks/my_lesson5.ipynb#Make-every-review-500-words-long\" data-toc-modified-id=\"Make-every-review-500-words-long-3\"><span class=\"toc-item-num\">3&nbsp;&nbsp;</span>Make every review 500 words long</a></span></li><li><span><a href=\"http://localhost:8888/notebooks/my_lesson5.ipynb#Simple-Embedding---Dense-level\" data-toc-modified-id=\"Simple-Embedding---Dense-level-4\"><span class=\"toc-item-num\">4&nbsp;&nbsp;</span>Simple Embedding - Dense level</a></span></li><li><span><a href=\"http://localhost:8888/notebooks/my_lesson5.ipynb#With-a-conv-layer\" data-toc-modified-id=\"With-a-conv-layer-5\"><span class=\"toc-item-num\">5&nbsp;&nbsp;</span>With a conv layer</a></span></li></ul></div>"
   ]
  },
  {
   "cell_type": "markdown",
   "metadata": {},
   "source": [
    "# Sentiment analysis with imdb dataset\n",
    "\n",
    "**Steps**\n",
    "1. Get dataset --> train and test sets (cheating allowed) DONE\n",
    "2. Truncate vocab to 5000 words DONE\n",
    "3. Truncate and fill reviews to 500 words DONE\n",
    "4. Create a simple model with Embedding and one Dense layer DONE\n",
    "5. Create a convolutional model with max pool\n",
    "6. Load pretrained embeddings (cheating allowed)\n",
    "7. Create a multisized (convo width) CNN"
   ]
  },
  {
   "cell_type": "code",
   "execution_count": 15,
   "metadata": {
    "collapsed": true
   },
   "outputs": [],
   "source": [
    "from __future__ import division, print_function"
   ]
  },
  {
   "cell_type": "markdown",
   "metadata": {
    "heading_collapsed": true
   },
   "source": [
    "## Get and prepare dataset"
   ]
  },
  {
   "cell_type": "code",
   "execution_count": 1,
   "metadata": {
    "hidden": true
   },
   "outputs": [
    {
     "name": "stderr",
     "output_type": "stream",
     "text": [
      "Using TensorFlow backend.\n"
     ]
    }
   ],
   "source": [
    "from keras.datasets import imdb"
   ]
  },
  {
   "cell_type": "code",
   "execution_count": 9,
   "metadata": {
    "hidden": true
   },
   "outputs": [
    {
     "data": {
      "text/plain": [
       "dict"
      ]
     },
     "execution_count": 9,
     "metadata": {},
     "output_type": "execute_result"
    }
   ],
   "source": [
    "idx = imdb.get_word_index()"
   ]
  },
  {
   "cell_type": "code",
   "execution_count": 12,
   "metadata": {
    "hidden": true
   },
   "outputs": [
    {
     "data": {
      "text/plain": [
       "['the', 'and', 'a', 'of', 'to', 'is', 'br', 'in', 'it', 'i']"
      ]
     },
     "execution_count": 12,
     "metadata": {},
     "output_type": "execute_result"
    }
   ],
   "source": [
    "idx_arr = sorted(idx, key=idx.get)\n",
    "idx_arr[:10]"
   ]
  },
  {
   "cell_type": "code",
   "execution_count": 13,
   "metadata": {
    "collapsed": true,
    "hidden": true
   },
   "outputs": [],
   "source": [
    "idx2word = {v: k  for k, v in idx.iteritems()}"
   ]
  },
  {
   "cell_type": "code",
   "execution_count": 18,
   "metadata": {
    "hidden": true
   },
   "outputs": [],
   "source": [
    "# Download the reviews\n",
    "from utils import get_file\n",
    "import cPickle as pickle\n",
    "path = get_file('imdb_full.pkl',\n",
    "                origin='https://s3.amazonaws.com/text-datasets/imdb_full.pkl',\n",
    "                md5_hash='d091312047c43cf9e4e38fef92437263')\n",
    "f = open(path, 'rb')\n",
    "(x_train, labels_train), (x_test, labels_test) = pickle.load(f)"
   ]
  },
  {
   "cell_type": "code",
   "execution_count": 19,
   "metadata": {
    "hidden": true
   },
   "outputs": [
    {
     "data": {
      "text/plain": [
       "(25000, 25000)"
      ]
     },
     "execution_count": 19,
     "metadata": {},
     "output_type": "execute_result"
    }
   ],
   "source": [
    "len(x_train), len(x_test)"
   ]
  },
  {
   "cell_type": "code",
   "execution_count": 20,
   "metadata": {
    "collapsed": true,
    "hidden": true
   },
   "outputs": [
    {
     "data": {
      "text/plain": [
       "[54917,\n",
       " 39,\n",
       " 14,\n",
       " 9,\n",
       " 6,\n",
       " 79,\n",
       " 570,\n",
       " 58086,\n",
       " 6,\n",
       " 28,\n",
       " 4,\n",
       " 1,\n",
       " 88,\n",
       " 2006,\n",
       " 1377,\n",
       " 105,\n",
       " 10,\n",
       " 25,\n",
       " 123,\n",
       " 107,\n",
       " 1,\n",
       " 3887,\n",
       " 4,\n",
       " 84242,\n",
       " 2,\n",
       " 3332,\n",
       " 1378,\n",
       " 6,\n",
       " 748,\n",
       " 13733,\n",
       " 3,\n",
       " 280,\n",
       " 6529,\n",
       " 15,\n",
       " 1,\n",
       " 520,\n",
       " 1,\n",
       " 428,\n",
       " 13,\n",
       " 3,\n",
       " 13565,\n",
       " 15,\n",
       " 3,\n",
       " 51770,\n",
       " 2047,\n",
       " 7648,\n",
       " 8,\n",
       " 55236,\n",
       " 1,\n",
       " 1341,\n",
       " 432,\n",
       " 5,\n",
       " 8775,\n",
       " 37479,\n",
       " 31,\n",
       " 10188,\n",
       " 1091,\n",
       " 3,\n",
       " 19,\n",
       " 11595,\n",
       " 52,\n",
       " 726,\n",
       " 5,\n",
       " 13763,\n",
       " 1974,\n",
       " 32,\n",
       " 3432,\n",
       " 8,\n",
       " 704,\n",
       " 848,\n",
       " 196,\n",
       " 105,\n",
       " 2,\n",
       " 27,\n",
       " 3,\n",
       " 1916,\n",
       " 15,\n",
       " 621]"
      ]
     },
     "execution_count": 20,
     "metadata": {},
     "output_type": "execute_result"
    }
   ],
   "source": [
    "x_train[999]"
   ]
  },
  {
   "cell_type": "code",
   "execution_count": 21,
   "metadata": {
    "hidden": true
   },
   "outputs": [
    {
     "data": {
      "text/plain": [
       "\"europa' or as it is also known zentropa' is one of the most visually stunning films i have ever seen the blend of grayscale and colour photography is near seamless a true feast for the eyes the picture was a contender for a 1991's golden palm in canners the award went to barton fink by coen brothers a film stylistically very similar to zentropa here's an exercise in class rent both films and be a judge for yourself\""
      ]
     },
     "execution_count": 21,
     "metadata": {},
     "output_type": "execute_result"
    }
   ],
   "source": [
    "# Convert to words\n",
    "' '.join([idx2word[o] for o in x_train[999]])"
   ]
  },
  {
   "cell_type": "code",
   "execution_count": 22,
   "metadata": {
    "hidden": true
   },
   "outputs": [
    {
     "data": {
      "text/plain": [
       "1"
      ]
     },
     "execution_count": 22,
     "metadata": {},
     "output_type": "execute_result"
    }
   ],
   "source": [
    "labels_train[999]"
   ]
  },
  {
   "cell_type": "markdown",
   "metadata": {
    "heading_collapsed": true
   },
   "source": [
    "## Truncate vocab and convert to numpy array"
   ]
  },
  {
   "cell_type": "code",
   "execution_count": 23,
   "metadata": {
    "collapsed": true,
    "hidden": true
   },
   "outputs": [],
   "source": [
    "max_vocab = 5000"
   ]
  },
  {
   "cell_type": "code",
   "execution_count": 24,
   "metadata": {
    "collapsed": true,
    "hidden": true
   },
   "outputs": [],
   "source": [
    "import numpy as np\n",
    "train = [np.array([i if i < max_vocab else max_vocab for i in s]) \n",
    "         for s in x_train]"
   ]
  },
  {
   "cell_type": "code",
   "execution_count": 27,
   "metadata": {
    "collapsed": true,
    "hidden": true
   },
   "outputs": [
    {
     "data": {
      "text/plain": [
       "array([5000,  309,    6,    3, 1069,  209,    9, 2175,   30,    1,  169,   55,   14,   46,   82,\n",
       "       5000,   41,  393,  110,  138,   14, 5000,   58, 4477,  150,    8,    1, 5000, 5000,  482,\n",
       "         69,    5,  261,   12, 5000, 5000, 2003,    6,   73, 2436,    5,  632,   71,    6, 5000,\n",
       "          1, 5000,    5, 2004, 5000,    1, 5000, 1534,   34,   67,   64,  205,  140,   65, 1232,\n",
       "       5000, 5000,    1, 5000,    4,    1,  223,  901,   29, 3024,   69,    4,    1, 5000,   10,\n",
       "        694,    2,   65, 1534,   51,   10,  216,    1,  387,    8,   60,    3, 1472, 3724,  802,\n",
       "          5, 3521,  177,    1,  393,   10, 1238, 5000,   30,  309,    3,  353,  344, 2989,  143,\n",
       "        130,    5, 5000,   28,    4,  126, 5000, 1472, 2375,    5, 5000,  309,   10,  532,   12,\n",
       "        108, 1470,    4,   58,  556,  101,   12, 5000,  309,    6,  227, 4187,   48,    3, 2237,\n",
       "         12,    9,  215])"
      ]
     },
     "execution_count": 27,
     "metadata": {},
     "output_type": "execute_result"
    }
   ],
   "source": [
    "train[0]"
   ]
  },
  {
   "cell_type": "code",
   "execution_count": 28,
   "metadata": {
    "collapsed": true,
    "hidden": true
   },
   "outputs": [],
   "source": [
    "test = [np.array([i if i < max_vocab else max_vocab for i in s]) \n",
    "         for s in x_test]"
   ]
  },
  {
   "cell_type": "markdown",
   "metadata": {
    "heading_collapsed": true
   },
   "source": [
    "## Make every review 500 words long"
   ]
  },
  {
   "cell_type": "code",
   "execution_count": 29,
   "metadata": {
    "collapsed": true,
    "hidden": true
   },
   "outputs": [],
   "source": [
    "from keras.preprocessing.sequence import pad_sequences"
   ]
  },
  {
   "cell_type": "code",
   "execution_count": 30,
   "metadata": {
    "collapsed": true,
    "hidden": true
   },
   "outputs": [],
   "source": [
    "seq_len = 500"
   ]
  },
  {
   "cell_type": "code",
   "execution_count": 31,
   "metadata": {
    "collapsed": true,
    "hidden": true
   },
   "outputs": [],
   "source": [
    "train = pad_sequences(train, maxlen=seq_len)"
   ]
  },
  {
   "cell_type": "code",
   "execution_count": 32,
   "metadata": {
    "collapsed": true,
    "hidden": true
   },
   "outputs": [
    {
     "data": {
      "text/plain": [
       "array([   0,    0,    0,    0,    0,    0,    0,    0,    0,    0,    0,    0,    0,    0,    0,\n",
       "          0,    0,    0,    0,    0,    0,    0,    0,    0,    0,    0,    0,    0,    0,    0,\n",
       "          0,    0,    0,    0,    0,    0,    0,    0,    0,    0,    0,    0,    0,    0,    0,\n",
       "          0,    0,    0,    0,    0,    0,    0,    0,    0,    0,    0,    0,    0,    0,    0,\n",
       "          0,    0,    0,    0,    0,    0,    0,    0,    0,    0,    0,    0,    0,    0,    0,\n",
       "          0,    0,    0,    0,    0,    0,    0,    0,    0,    0,    0,    0,    0,    0,    0,\n",
       "          0,    0,    0,    0,    0,    0,    0,    0,    0,    0,    0,    0,    0,    0,    0,\n",
       "          0,    0,    0,    0,    0,    0,    0,    0,    0,    0,    0,    0,    0,    0,    0,\n",
       "          0,    0,    0,    0,    0,    0,    0,    0,    0,    0,    0,    0,    0,    0,    0,\n",
       "          0,    0,    0,    0,    0,    0,    0,    0,    0,    0,    0,    0,    0,    0,    0,\n",
       "          0,    0,    0,    0,    0,    0,    0,    0,    0,    0,    0,    0,    0,    0,    0,\n",
       "          0,    0,    0,    0,    0,    0,    0,    0,    0,    0,    0,    0,    0,    0,    0,\n",
       "          0,    0,    0,    0,    0,    0,    0,    0,    0,    0,    0,    0,    0,    0,    0,\n",
       "          0,    0,    0,    0,    0,    0,    0,    0,    0,    0,    0,    0,    0,    0,    0,\n",
       "          0,    0,    0,    0,    0,    0,    0,    0,    0,    0,    0,    0,    0,    0,    0,\n",
       "          0,    0,    0,    0,    0,    0,    0,    0,    0,    0,    0,    0,    0,    0,    0,\n",
       "          0,    0,    0,    0,    0,    0,    0,    0,    0,    0,    0,    0,    0,    0,    0,\n",
       "          0,    0,    0,    0,    0,    0,    0,    0,    0,    0,    0,    0,    0,    0,    0,\n",
       "          0,    0,    0,    0,    0,    0,    0,    0,    0,    0,    0,    0,    0,    0,    0,\n",
       "          0,    0,    0,    0,    0,    0,    0,    0,    0,    0,    0,    0,    0,    0,    0,\n",
       "          0,    0,    0,    0,    0,    0,    0,    0,    0,    0,    0,    0,    0,    0,    0,\n",
       "          0,    0,    0,    0,    0,    0,    0,    0,    0,    0,    0,    0,    0,    0,    0,\n",
       "          0,    0,    0,    0,    0,    0,    0,    0,    0,    0,    0,    0,    0,    0,    0,\n",
       "          0,    0,    0,    0,    0,    0,    0,    0,    0,    0,    0,    0,    0,    0,    0,\n",
       "          0,    0, 5000,  309,    6,    3, 1069,  209,    9, 2175,   30,    1,  169,   55,   14,\n",
       "         46,   82, 5000,   41,  393,  110,  138,   14, 5000,   58, 4477,  150,    8,    1, 5000,\n",
       "       5000,  482,   69,    5,  261,   12, 5000, 5000, 2003,    6,   73, 2436,    5,  632,   71,\n",
       "          6, 5000,    1, 5000,    5, 2004, 5000,    1, 5000, 1534,   34,   67,   64,  205,  140,\n",
       "         65, 1232, 5000, 5000,    1, 5000,    4,    1,  223,  901,   29, 3024,   69,    4,    1,\n",
       "       5000,   10,  694,    2,   65, 1534,   51,   10,  216,    1,  387,    8,   60,    3, 1472,\n",
       "       3724,  802,    5, 3521,  177,    1,  393,   10, 1238, 5000,   30,  309,    3,  353,  344,\n",
       "       2989,  143,  130,    5, 5000,   28,    4,  126, 5000, 1472, 2375,    5, 5000,  309,   10,\n",
       "        532,   12,  108, 1470,    4,   58,  556,  101,   12, 5000,  309,    6,  227, 4187,   48,\n",
       "          3, 2237,   12,    9,  215], dtype=int32)"
      ]
     },
     "execution_count": 32,
     "metadata": {},
     "output_type": "execute_result"
    }
   ],
   "source": [
    "train[0]"
   ]
  },
  {
   "cell_type": "code",
   "execution_count": 33,
   "metadata": {
    "collapsed": true,
    "hidden": true
   },
   "outputs": [],
   "source": [
    "test = pad_sequences(test, maxlen=seq_len)"
   ]
  },
  {
   "cell_type": "markdown",
   "metadata": {},
   "source": [
    "## Simple Embedding - Dense level"
   ]
  },
  {
   "cell_type": "code",
   "execution_count": 54,
   "metadata": {},
   "outputs": [],
   "source": [
    "# train, labels_train; test and labels_test\n",
    "from keras.layers.core import Dense, Dropout, Flatten\n",
    "from keras.layers.embeddings import Embedding\n",
    "from keras.layers import Input, Embedding\n",
    "from keras.regularizers import l2\n",
    "from keras.models import Model"
   ]
  },
  {
   "cell_type": "code",
   "execution_count": 85,
   "metadata": {
    "collapsed": true
   },
   "outputs": [],
   "source": [
    "emb_size = 32"
   ]
  },
  {
   "cell_type": "code",
   "execution_count": 86,
   "metadata": {},
   "outputs": [],
   "source": [
    "inp = Input(shape=(seq_len, ))\n",
    "x = Embedding(max_vocab+1, emb_size)(inp)"
   ]
  },
  {
   "cell_type": "code",
   "execution_count": 87,
   "metadata": {},
   "outputs": [],
   "source": [
    "x = Flatten()(x)"
   ]
  },
  {
   "cell_type": "code",
   "execution_count": 88,
   "metadata": {},
   "outputs": [],
   "source": [
    "x = Dense(100, activation='relu')(x)"
   ]
  },
  {
   "cell_type": "code",
   "execution_count": 89,
   "metadata": {},
   "outputs": [],
   "source": [
    "x = Dropout(0.7)(x)"
   ]
  },
  {
   "cell_type": "code",
   "execution_count": 90,
   "metadata": {
    "collapsed": true
   },
   "outputs": [],
   "source": [
    "out = Dense(1, activation='sigmoid')(x)"
   ]
  },
  {
   "cell_type": "code",
   "execution_count": 91,
   "metadata": {},
   "outputs": [],
   "source": [
    "model = Model(inp, out)"
   ]
  },
  {
   "cell_type": "code",
   "execution_count": 92,
   "metadata": {},
   "outputs": [
    {
     "name": "stdout",
     "output_type": "stream",
     "text": [
      "____________________________________________________________________________________________________\n",
      "Layer (type)                     Output Shape          Param #     Connected to                     \n",
      "====================================================================================================\n",
      "input_6 (InputLayer)             (None, 500)           0                                            \n",
      "____________________________________________________________________________________________________\n",
      "embedding_6 (Embedding)          (None, 500, 32)       160032      input_6[0][0]                    \n",
      "____________________________________________________________________________________________________\n",
      "flatten_5 (Flatten)              (None, 16000)         0           embedding_6[0][0]                \n",
      "____________________________________________________________________________________________________\n",
      "dense_8 (Dense)                  (None, 100)           1600100     flatten_5[0][0]                  \n",
      "____________________________________________________________________________________________________\n",
      "dropout_5 (Dropout)              (None, 100)           0           dense_8[0][0]                    \n",
      "____________________________________________________________________________________________________\n",
      "dense_9 (Dense)                  (None, 1)             101         dropout_5[0][0]                  \n",
      "====================================================================================================\n",
      "Total params: 1,760,233\n",
      "Trainable params: 1,760,233\n",
      "Non-trainable params: 0\n",
      "____________________________________________________________________________________________________\n"
     ]
    }
   ],
   "source": [
    "model.summary()"
   ]
  },
  {
   "cell_type": "code",
   "execution_count": 75,
   "metadata": {
    "collapsed": true
   },
   "outputs": [],
   "source": [
    "from keras.optimizers import Adam"
   ]
  },
  {
   "cell_type": "code",
   "execution_count": 93,
   "metadata": {
    "collapsed": true
   },
   "outputs": [],
   "source": [
    "opt = Adam()\n",
    "model.compile(opt, 'binary_crossentropy', metrics=['accuracy'])"
   ]
  },
  {
   "cell_type": "code",
   "execution_count": 94,
   "metadata": {},
   "outputs": [
    {
     "name": "stdout",
     "output_type": "stream",
     "text": [
      "Train on 25000 samples, validate on 25000 samples\n",
      "Epoch 1/2\n",
      "25000/25000 [==============================] - 31s - loss: 0.4555 - acc: 0.7576 - val_loss: 0.2891 - val_acc: 0.8769\n",
      "Epoch 2/2\n",
      "25000/25000 [==============================] - 31s - loss: 0.1963 - acc: 0.9272 - val_loss: 0.3117 - val_acc: 0.8720\n"
     ]
    },
    {
     "data": {
      "text/plain": [
       "<keras.callbacks.History at 0x12c31ac50>"
      ]
     },
     "execution_count": 94,
     "metadata": {},
     "output_type": "execute_result"
    }
   ],
   "source": [
    "model.fit(train, labels_train, nb_epoch=2, validation_data=[test, labels_test],\n",
    "         batch_size=64)"
   ]
  },
  {
   "cell_type": "markdown",
   "metadata": {},
   "source": [
    "## With a conv layer"
   ]
  },
  {
   "cell_type": "code",
   "execution_count": 84,
   "metadata": {
    "collapsed": true
   },
   "outputs": [],
   "source": [
    "from keras.layers.convolutional import Conv1D\n",
    "from keras.layers.convolutional import MaxPooling1D"
   ]
  },
  {
   "cell_type": "code",
   "execution_count": 100,
   "metadata": {},
   "outputs": [],
   "source": [
    "inp = Input(shape=(seq_len,))\n",
    "x = Embedding(max_vocab + 1, emb_size)(inp)\n",
    "x = Dropout(0.2)(x)\n",
    "x = Conv1D(64, 5, border_mode='same', activation='relu')(x)\n",
    "x = Dropout(0.2)(x)\n",
    "x = MaxPooling1D()(x)\n",
    "x = Flatten()(x)\n",
    "x = Dense(100, activation='relu')(x)\n",
    "x = Dropout(0.7)(x)\n",
    "out = Dense(1, activation='sigmoid')(x)"
   ]
  },
  {
   "cell_type": "code",
   "execution_count": 101,
   "metadata": {},
   "outputs": [
    {
     "name": "stdout",
     "output_type": "stream",
     "text": [
      "____________________________________________________________________________________________________\n",
      "Layer (type)                     Output Shape          Param #     Connected to                     \n",
      "====================================================================================================\n",
      "input_10 (InputLayer)            (None, 500)           0                                            \n",
      "____________________________________________________________________________________________________\n",
      "embedding_10 (Embedding)         (None, 500, 32)       160032      input_10[0][0]                   \n",
      "____________________________________________________________________________________________________\n",
      "dropout_14 (Dropout)             (None, 500, 32)       0           embedding_10[0][0]               \n",
      "____________________________________________________________________________________________________\n",
      "convolution1d_4 (Convolution1D)  (None, 500, 64)       10304       dropout_14[0][0]                 \n",
      "____________________________________________________________________________________________________\n",
      "dropout_15 (Dropout)             (None, 500, 64)       0           convolution1d_4[0][0]            \n",
      "____________________________________________________________________________________________________\n",
      "maxpooling1d_4 (MaxPooling1D)    (None, 250, 64)       0           dropout_15[0][0]                 \n",
      "____________________________________________________________________________________________________\n",
      "flatten_9 (Flatten)              (None, 16000)         0           maxpooling1d_4[0][0]             \n",
      "____________________________________________________________________________________________________\n",
      "dense_14 (Dense)                 (None, 100)           1600100     flatten_9[0][0]                  \n",
      "____________________________________________________________________________________________________\n",
      "dropout_16 (Dropout)             (None, 100)           0           dense_14[0][0]                   \n",
      "____________________________________________________________________________________________________\n",
      "dense_15 (Dense)                 (None, 1)             101         dropout_16[0][0]                 \n",
      "====================================================================================================\n",
      "Total params: 1,770,537\n",
      "Trainable params: 1,770,537\n",
      "Non-trainable params: 0\n",
      "____________________________________________________________________________________________________\n"
     ]
    }
   ],
   "source": [
    "model = Model(inp, out)\n",
    "model.summary()"
   ]
  },
  {
   "cell_type": "code",
   "execution_count": 102,
   "metadata": {
    "collapsed": true
   },
   "outputs": [],
   "source": [
    "model.compile(opt, 'binary_crossentropy', metrics=['accuracy'])"
   ]
  },
  {
   "cell_type": "code",
   "execution_count": 103,
   "metadata": {},
   "outputs": [
    {
     "name": "stdout",
     "output_type": "stream",
     "text": [
      "Train on 25000 samples, validate on 25000 samples\n",
      "Epoch 1/2\n",
      "25000/25000 [==============================] - 122s - loss: 0.4010 - acc: 0.8136 - val_loss: 0.2599 - val_acc: 0.8946\n",
      "Epoch 2/2\n",
      "25000/25000 [==============================] - 127s - loss: 0.2264 - acc: 0.9153 - val_loss: 0.2536 - val_acc: 0.8972\n"
     ]
    },
    {
     "data": {
      "text/plain": [
       "<keras.callbacks.History at 0x12ca9d090>"
      ]
     },
     "execution_count": 103,
     "metadata": {},
     "output_type": "execute_result"
    }
   ],
   "source": [
    "model.fit(train, labels_train, nb_epoch=2, validation_data=[test, labels_test],\n",
    "         batch_size=64)"
   ]
  },
  {
   "cell_type": "code",
   "execution_count": null,
   "metadata": {
    "collapsed": true
   },
   "outputs": [],
   "source": []
  }
 ],
 "metadata": {
  "kernelspec": {
   "display_name": "Python 2",
   "language": "python",
   "name": "python2"
  },
  "language_info": {
   "codemirror_mode": {
    "name": "ipython",
    "version": 2
   },
   "file_extension": ".py",
   "mimetype": "text/x-python",
   "name": "python",
   "nbconvert_exporter": "python",
   "pygments_lexer": "ipython2",
   "version": "2.7.13"
  },
  "toc": {
   "nav_menu": {},
   "number_sections": true,
   "sideBar": true,
   "skip_h1_title": true,
   "toc_cell": true,
   "toc_position": {},
   "toc_section_display": "block",
   "toc_window_display": false
  }
 },
 "nbformat": 4,
 "nbformat_minor": 2
}
