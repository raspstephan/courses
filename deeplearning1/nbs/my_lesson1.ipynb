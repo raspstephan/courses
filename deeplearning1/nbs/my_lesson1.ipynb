{
 "cells": [
  {
   "cell_type": "markdown",
   "metadata": {},
   "source": [
    "# My Lesson 1\n",
    "\n",
    "**Homework tasks**\n",
    "1. [DONE] Get AWS instance running (either g2 or m4 if not yet approved for g2) after contacting support etc.\n",
    "2. [DONE] Setup ssh keys as per instructions in setup video\n",
    "3. [DONE] install bash setup script onto server instance\n",
    "4. [DONE] launch jupyter notebook on the instance\n",
    "5. [CURRENT] once the notebook is running, review the lesson 1 notebook notes and run each cell of code to figure out what python and vgg is doing\n",
    "6. install kaggle CLI onto the server instance\n",
    "7. use the kaggle CLI to download the current data for the Dogs vs. Cats Redux competition\n",
    "8. configure the new data to the file structure in the same way that was used in the sample lesson 1 notebook\n",
    "9. make a copy of the lesson 1 notebook and use the new copy to draw in the new Dogs Vs. Cats data (if you copy the notebook outside of the course folder, don't forget the utils.py, vgg26.py files etc)\n",
    "10. Run the relevant code cells on the sample set of new Dogs v. Cats data to make a prediction on the new image data set.\n",
    "11. Once the sample set works, modify the jupyter notebook to use the new test data images\n",
    "12. write a script that takes the predict() data of the new Dogs vs. Cats data and writes the data to a new csv file in the format of the sample_submission.csv file that was downloaded with the Dogs vs. Cats\n",
    "13. submit that new submission.csv file to the kaggle via the CLI tool\n",
    "14. check the public scoreboard for your own ranking\n",
    "15. modify or tune current code in the lesson 1 notebook to try to get into the top 50% ranking of the current Dogs v Cats competition\n",
    "16. start exploring the other new datasets on kaggle and decide which one you or some teammates would like to study further during the course\n",
    "17. download the new data to your EC2 instance and repeat the previous steps with your brand new data."
   ]
  },
  {
   "cell_type": "code",
   "execution_count": null,
   "metadata": {
    "collapsed": true
   },
   "outputs": [],
   "source": []
  }
 ],
 "metadata": {
  "anaconda-cloud": {},
  "kernelspec": {
   "display_name": "Python [conda root]",
   "language": "python",
   "name": "conda-root-py"
  },
  "language_info": {
   "codemirror_mode": {
    "name": "ipython",
    "version": 2
   },
   "file_extension": ".py",
   "mimetype": "text/x-python",
   "name": "python",
   "nbconvert_exporter": "python",
   "pygments_lexer": "ipython2",
   "version": "2.7.12"
  }
 },
 "nbformat": 4,
 "nbformat_minor": 1
}
