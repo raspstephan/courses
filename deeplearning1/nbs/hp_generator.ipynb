{
 "cells": [
  {
   "cell_type": "markdown",
   "metadata": {
    "toc": "true"
   },
   "source": [
    " # Table of Contents\n",
    "<div class=\"toc\" style=\"margin-top: 1em;\"><ul class=\"toc-item\" id=\"toc-level0\"><li><span><a href=\"http://localhost:8888/notebooks/hp_generator.ipynb#Prepare-the-text\" data-toc-modified-id=\"Prepare-the-text-1\"><span class=\"toc-item-num\">1&nbsp;&nbsp;</span>Prepare the text</a></span></li><li><span><a href=\"http://localhost:8888/notebooks/hp_generator.ipynb#Prepare-the-input-for-the-model\" data-toc-modified-id=\"Prepare-the-input-for-the-model-2\"><span class=\"toc-item-num\">2&nbsp;&nbsp;</span>Prepare the input for the model</a></span></li><li><span><a href=\"http://localhost:8888/notebooks/hp_generator.ipynb#Set-up-the-model\" data-toc-modified-id=\"Set-up-the-model-3\"><span class=\"toc-item-num\">3&nbsp;&nbsp;</span>Set up the model</a></span><ul class=\"toc-item\"><li><span><a href=\"http://localhost:8888/notebooks/hp_generator.ipynb#Stateless-model\" data-toc-modified-id=\"Stateless-model-3.1\"><span class=\"toc-item-num\">3.1&nbsp;&nbsp;</span>Stateless model</a></span></li><li><span><a href=\"http://localhost:8888/notebooks/hp_generator.ipynb#Stateful-model-with-regular-input\" data-toc-modified-id=\"Stateful-model-with-regular-input-3.2\"><span class=\"toc-item-num\">3.2&nbsp;&nbsp;</span>Stateful model with regular input</a></span></li><li><span><a href=\"http://localhost:8888/notebooks/hp_generator.ipynb#Stateful-model-with-restructured-input\" data-toc-modified-id=\"Stateful-model-with-restructured-input-3.3\"><span class=\"toc-item-num\">3.3&nbsp;&nbsp;</span>Stateful model with restructured input</a></span></li></ul></li><li><span><a href=\"http://localhost:8888/notebooks/hp_generator.ipynb#Copy-weights-to-prediction-model\" data-toc-modified-id=\"Copy-weights-to-prediction-model-4\"><span class=\"toc-item-num\">4&nbsp;&nbsp;</span>Copy weights to prediction model</a></span></li><li><span><a href=\"http://localhost:8888/notebooks/hp_generator.ipynb#Test-Model\" data-toc-modified-id=\"Test-Model-5\"><span class=\"toc-item-num\">5&nbsp;&nbsp;</span>Test Model</a></span></li></ul></div>"
   ]
  },
  {
   "cell_type": "code",
   "execution_count": 1,
   "metadata": {},
   "outputs": [
    {
     "name": "stderr",
     "output_type": "stream",
     "text": [
      "Using TensorFlow backend.\n"
     ]
    }
   ],
   "source": [
    "# Import \n",
    "import numpy as np\n",
    "from numpy.random import choice\n",
    "import keras\n",
    "from keras.layers import LSTM, Dense, Dropout, BatchNormalization, \\\n",
    "    TimeDistributed, Embedding, Input\n",
    "from keras.models import Model, Sequential\n",
    "from keras.optimizers import Adam\n",
    "from __future__ import division, print_function"
   ]
  },
  {
   "cell_type": "markdown",
   "metadata": {},
   "source": [
    "## Prepare the text\n",
    "\n",
    "- `char` are all the unique characters.\n",
    "- `vocab_size` is the number of unique characters\n",
    "- `idx` is the text as a list\n",
    "- `char2idx` and `idx2char` are the conversion dictionaries"
   ]
  },
  {
   "cell_type": "code",
   "execution_count": 33,
   "metadata": {
    "collapsed": true
   },
   "outputs": [],
   "source": [
    "path = '/Users/stephanrasp/repositories/courses/data/hp/'\n",
    "# path = '/home/ubuntu/repositories/courses/data/hp/'\n",
    "fn = 'HP_7_-_Harry_Potter_and_the_Deathly_Hallows.txt'"
   ]
  },
  {
   "cell_type": "code",
   "execution_count": 34,
   "metadata": {
    "collapsed": true
   },
   "outputs": [],
   "source": [
    "text = open(path + fn).read()"
   ]
  },
  {
   "cell_type": "code",
   "execution_count": 35,
   "metadata": {
    "collapsed": true
   },
   "outputs": [],
   "source": [
    "# Create smaller sample\n",
    "text = text[:200000]"
   ]
  },
  {
   "cell_type": "code",
   "execution_count": 36,
   "metadata": {},
   "outputs": [
    {
     "data": {
      "text/plain": [
       "200000"
      ]
     },
     "execution_count": 36,
     "metadata": {},
     "output_type": "execute_result"
    }
   ],
   "source": [
    "len(text)"
   ]
  },
  {
   "cell_type": "code",
   "execution_count": 37,
   "metadata": {},
   "outputs": [
    {
     "name": "stdout",
     "output_type": "stream",
     "text": [
      "her head almost imperceptibly, then resumed her own deadpan stare at the opposite wall.\r\n",
      "\r\n",
      "‘Enough,’ said Voldemort, stroking the angry snake. ‘Enough.’\r\n",
      "\r\n",
      "And the laughter died at once.\r\n",
      "\r\n",
      "�\n"
     ]
    }
   ],
   "source": [
    "print(text[20000:20200])"
   ]
  },
  {
   "cell_type": "code",
   "execution_count": 38,
   "metadata": {},
   "outputs": [
    {
     "name": "stdout",
     "output_type": "stream",
     "text": [
      "['\\t', '\\n', '\\r', ' ', '!', \"'\", '(', ')', ',', '-', '.', '0', '1', '2', '3', '4', '5', '6', '7', '8', '9', ':', ';', '?', 'A', 'B', 'C', 'D', 'E', 'F', 'G', 'H', 'I', 'J', 'K', 'L', 'M', 'N', 'O', 'P', 'Q', 'R', 'S', 'T', 'U', 'V', 'W', 'X', 'Y', 'Z', 'a', 'b', 'c', 'd', 'e', 'f', 'g', 'h', 'i', 'j', 'k', 'l', 'm', 'n', 'o', 'p', 'q', 'r', 's', 't', 'u', 'v', 'w', 'x', 'y', 'z', '\\x80', '\\x93', '\\x94', '\\x98', '\\x99', '\\x9c', '\\x9d', '\\xa4', '\\xa6', '\\xa9', '\\xc2', '\\xc3', '\\xe2']\n"
     ]
    },
    {
     "data": {
      "text/plain": [
       "(None, 89)"
      ]
     },
     "execution_count": 38,
     "metadata": {},
     "output_type": "execute_result"
    }
   ],
   "source": [
    "chars = sorted(list(set(text)))\n",
    "vocab_size = len(chars)\n",
    "print(chars), len(chars)"
   ]
  },
  {
   "cell_type": "code",
   "execution_count": 39,
   "metadata": {
    "collapsed": true
   },
   "outputs": [],
   "source": [
    "# Build dictionaries\n",
    "char2idx = dict((c, i) for i, c in enumerate(chars))\n",
    "idx2char = dict((i, c) for i, c in enumerate(chars))"
   ]
  },
  {
   "cell_type": "code",
   "execution_count": 40,
   "metadata": {},
   "outputs": [
    {
     "name": "stdout",
     "output_type": "stream",
     "text": [
      "[50, 61, 61, 74, 3, 57, 54, 3, 58, 68, 3, 52, 54, 67, 69, 50, 58, 63, 8, 88, 76, 80, 3, 68, 50, 58, 53, 3, 42, 63, 50, 65, 54, 10, 3, 88, 76, 79, 32, 3, 50, 68, 68, 70, 67, 54, 3, 74, 64, 70]\n"
     ]
    }
   ],
   "source": [
    "print([char2idx[c] for c in text[10000:10050]])"
   ]
  },
  {
   "cell_type": "code",
   "execution_count": 41,
   "metadata": {
    "collapsed": true
   },
   "outputs": [],
   "source": [
    "# Convert the entire text\n",
    "idx = [char2idx[c] for c in text]"
   ]
  },
  {
   "cell_type": "code",
   "execution_count": 42,
   "metadata": {},
   "outputs": [
    {
     "data": {
      "text/plain": [
       "200000"
      ]
     },
     "execution_count": 42,
     "metadata": {},
     "output_type": "execute_result"
    }
   ],
   "source": [
    "len(idx)"
   ]
  },
  {
   "cell_type": "markdown",
   "metadata": {},
   "source": [
    "## Prepare the input for the model\n",
    "\n",
    "As input we need "
   ]
  },
  {
   "cell_type": "code",
   "execution_count": 43,
   "metadata": {
    "collapsed": true
   },
   "outputs": [],
   "source": [
    "# cs = 40\n",
    "cs = 15\n",
    "bs = 64"
   ]
  },
  {
   "cell_type": "code",
   "execution_count": 44,
   "metadata": {},
   "outputs": [
    {
     "data": {
      "text/plain": [
       "200000"
      ]
     },
     "execution_count": 44,
     "metadata": {},
     "output_type": "execute_result"
    }
   ],
   "source": [
    "len(idx)"
   ]
  },
  {
   "cell_type": "code",
   "execution_count": 45,
   "metadata": {
    "collapsed": true
   },
   "outputs": [],
   "source": [
    "idx_cropped = idx[:(len(idx) // cs * cs) + 1]"
   ]
  },
  {
   "cell_type": "code",
   "execution_count": 46,
   "metadata": {},
   "outputs": [
    {
     "data": {
      "text/plain": [
       "((13333, 15), (13333, 15))"
      ]
     },
     "execution_count": 46,
     "metadata": {},
     "output_type": "execute_result"
    }
   ],
   "source": [
    "xs = np.reshape(idx_cropped[:-1], (-1, cs))\n",
    "ys = np.reshape(idx_cropped[1:], (-1, cs))\n",
    "xs.shape, ys.shape"
   ]
  },
  {
   "cell_type": "code",
   "execution_count": 49,
   "metadata": {},
   "outputs": [
    {
     "data": {
      "text/plain": [
       "((13312, 15), (13312, 15))"
      ]
     },
     "execution_count": 49,
     "metadata": {},
     "output_type": "execute_result"
    }
   ],
   "source": [
    "# Crop to batch size\n",
    "xs = xs[:(xs.shape[0] // bs * bs)]\n",
    "ys = ys[:(ys.shape[0] // bs * bs)]\n",
    "xs.shape, ys.shape"
   ]
  },
  {
   "cell_type": "code",
   "execution_count": 50,
   "metadata": {
    "collapsed": true
   },
   "outputs": [],
   "source": [
    "xs_state = np.zeros(xs.shape)\n",
    "ys_state = np.zeros(ys.shape)"
   ]
  },
  {
   "cell_type": "code",
   "execution_count": 51,
   "metadata": {},
   "outputs": [
    {
     "data": {
      "text/plain": [
       "208"
      ]
     },
     "execution_count": 51,
     "metadata": {},
     "output_type": "execute_result"
    }
   ],
   "source": [
    "n_batch = xs.shape[0] // bs\n",
    "n_batch"
   ]
  },
  {
   "cell_type": "code",
   "execution_count": 52,
   "metadata": {
    "collapsed": true
   },
   "outputs": [],
   "source": [
    "for i in range(bs):\n",
    "    xs_state[i::bs] = xs[i*n_batch:(i+1)*n_batch]\n",
    "    ys_state[i::bs] = ys[i*n_batch:(i+1)*n_batch]"
   ]
  },
  {
   "cell_type": "code",
   "execution_count": 53,
   "metadata": {},
   "outputs": [
    {
     "data": {
      "text/plain": [
       "((13312, 15), (13312, 15))"
      ]
     },
     "execution_count": 53,
     "metadata": {},
     "output_type": "execute_result"
    }
   ],
   "source": [
    "ys.shape, ys_state.shape"
   ]
  },
  {
   "cell_type": "code",
   "execution_count": 54,
   "metadata": {},
   "outputs": [
    {
     "data": {
      "text/plain": [
       "((13312, 15, 1), (13312, 15, 1))"
      ]
     },
     "execution_count": 54,
     "metadata": {},
     "output_type": "execute_result"
    }
   ],
   "source": [
    "ys = np.atleast_3d(ys)\n",
    "ys_state = np.atleast_3d(ys_state)\n",
    "ys.shape, ys_state.shape"
   ]
  },
  {
   "cell_type": "markdown",
   "metadata": {},
   "source": [
    "So Ys is just shifted by one!"
   ]
  },
  {
   "cell_type": "markdown",
   "metadata": {},
   "source": [
    "## Set up the model"
   ]
  },
  {
   "cell_type": "markdown",
   "metadata": {},
   "source": [
    "### Stateless model"
   ]
  },
  {
   "cell_type": "code",
   "execution_count": 55,
   "metadata": {
    "collapsed": true
   },
   "outputs": [],
   "source": [
    "def build_model(vocab_size, n_fac, cs, batch_size, n_hidden, stateful):\n",
    "    model = Sequential([\n",
    "        Embedding(input_dim=vocab_size, output_dim=n_fac, input_length=cs, \n",
    "                  batch_input_shape=(batch_size, cs)),\n",
    "        BatchNormalization(),\n",
    "        LSTM(n_hidden, return_sequences=True, stateful=stateful, dropout_U=0.2,\n",
    "             dropout_W=0.2),\n",
    "        LSTM(n_hidden, return_sequences=True, stateful=stateful, dropout_U=0.2,\n",
    "             dropout_W=0.2),\n",
    "        TimeDistributed(Dense(n_hidden, activation='relu')),\n",
    "        Dropout(0.1),\n",
    "        TimeDistributed(Dense(vocab_size, activation='softmax')),\n",
    "    ])\n",
    "    model.compile(Adam(), loss='sparse_categorical_crossentropy')\n",
    "    return model"
   ]
  },
  {
   "cell_type": "code",
   "execution_count": 56,
   "metadata": {
    "collapsed": true
   },
   "outputs": [],
   "source": [
    "n_fac, n_hidden = (21, 256)"
   ]
  },
  {
   "cell_type": "code",
   "execution_count": 26,
   "metadata": {
    "collapsed": true
   },
   "outputs": [],
   "source": [
    "model = build_model(vocab_size, n_fac, cs, bs, n_hidden, stateful=False)"
   ]
  },
  {
   "cell_type": "code",
   "execution_count": 27,
   "metadata": {},
   "outputs": [
    {
     "name": "stdout",
     "output_type": "stream",
     "text": [
      "____________________________________________________________________________________________________\n",
      "Layer (type)                     Output Shape          Param #     Connected to                     \n",
      "====================================================================================================\n",
      "embedding_1 (Embedding)          (64, 40, 24)          2160        embedding_input_1[0][0]          \n",
      "____________________________________________________________________________________________________\n",
      "batchnormalization_1 (BatchNormal(64, 40, 24)          48          embedding_1[0][0]                \n",
      "____________________________________________________________________________________________________\n",
      "lstm_1 (LSTM)                    (64, 40, 512)         1099776     batchnormalization_1[0][0]       \n",
      "____________________________________________________________________________________________________\n",
      "lstm_2 (LSTM)                    (64, 40, 512)         2099200     lstm_1[0][0]                     \n",
      "____________________________________________________________________________________________________\n",
      "timedistributed_1 (TimeDistribute(64, 40, 512)         262656      lstm_2[0][0]                     \n",
      "____________________________________________________________________________________________________\n",
      "dropout_1 (Dropout)              (64, 40, 512)         0           timedistributed_1[0][0]          \n",
      "____________________________________________________________________________________________________\n",
      "timedistributed_2 (TimeDistribute(64, 40, 90)          46170       dropout_1[0][0]                  \n",
      "====================================================================================================\n",
      "Total params: 3510010\n",
      "____________________________________________________________________________________________________\n"
     ]
    }
   ],
   "source": [
    "model.summary()"
   ]
  },
  {
   "cell_type": "code",
   "execution_count": 28,
   "metadata": {},
   "outputs": [
    {
     "name": "stdout",
     "output_type": "stream",
     "text": [
      "Epoch 1/2\n",
      "30016/30016 [==============================] - 116s - loss: 2.0279   \n",
      "Epoch 2/2\n",
      "30016/30016 [==============================] - 115s - loss: 1.5201   \n"
     ]
    },
    {
     "data": {
      "text/plain": [
       "<keras.callbacks.History at 0x7fbeb171ef90>"
      ]
     },
     "execution_count": 28,
     "metadata": {},
     "output_type": "execute_result"
    }
   ],
   "source": [
    "model.fit(xs, ys, batch_size=bs, nb_epoch=2, shuffle=False)"
   ]
  },
  {
   "cell_type": "code",
   "execution_count": null,
   "metadata": {
    "collapsed": true
   },
   "outputs": [],
   "source": []
  },
  {
   "cell_type": "markdown",
   "metadata": {},
   "source": [
    "### Stateful model with regular input"
   ]
  },
  {
   "cell_type": "code",
   "execution_count": 57,
   "metadata": {
    "collapsed": true
   },
   "outputs": [],
   "source": [
    "def train_stateful(epochs, model, xs, ys):\n",
    "    for e in xrange(epochs):\n",
    "        model.reset_states()\n",
    "        h = model.fit(xs, ys, batch_size=bs, nb_epoch=1, shuffle=False)\n",
    "        print(h.history['loss'])"
   ]
  },
  {
   "cell_type": "code",
   "execution_count": 58,
   "metadata": {
    "collapsed": true
   },
   "outputs": [],
   "source": [
    "model_state = build_model(vocab_size, n_fac, cs, bs, n_hidden, stateful=True)"
   ]
  },
  {
   "cell_type": "code",
   "execution_count": 59,
   "metadata": {},
   "outputs": [
    {
     "name": "stdout",
     "output_type": "stream",
     "text": [
      "Epoch 1/1\n",
      "13312/13312 [==============================] - 91s - loss: 2.6919    \n",
      "[2.6918957004180322]\n",
      "Epoch 1/1\n",
      "13312/13312 [==============================] - 96s - loss: 2.1872    \n",
      "[2.1872274915759382]\n"
     ]
    }
   ],
   "source": [
    "train_stateful(2, model_state, xs, ys)"
   ]
  },
  {
   "cell_type": "markdown",
   "metadata": {
    "collapsed": true
   },
   "source": [
    "### Stateful model with restructured input"
   ]
  },
  {
   "cell_type": "code",
   "execution_count": 60,
   "metadata": {
    "collapsed": true
   },
   "outputs": [],
   "source": [
    "model_state2 = build_model(vocab_size, n_fac, cs, bs, n_hidden, stateful=True)"
   ]
  },
  {
   "cell_type": "code",
   "execution_count": 61,
   "metadata": {},
   "outputs": [
    {
     "name": "stdout",
     "output_type": "stream",
     "text": [
      "Epoch 1/1\n",
      "13312/13312 [==============================] - 89s - loss: 2.6391    \n",
      "[2.6391428674642858]\n",
      "Epoch 1/1\n",
      "13312/13312 [==============================] - 87s - loss: 2.0077    \n",
      "[2.0077299292270956]\n"
     ]
    }
   ],
   "source": [
    "train_stateful(2, model_state2, xs_state, ys_state)"
   ]
  },
  {
   "cell_type": "code",
   "execution_count": null,
   "metadata": {
    "collapsed": true
   },
   "outputs": [],
   "source": []
  },
  {
   "cell_type": "code",
   "execution_count": 47,
   "metadata": {
    "collapsed": true
   },
   "outputs": [],
   "source": [
    "model_state2.save('./state_model2.h5')"
   ]
  },
  {
   "cell_type": "markdown",
   "metadata": {},
   "source": [
    "## Copy weights to prediction model"
   ]
  },
  {
   "cell_type": "code",
   "execution_count": 40,
   "metadata": {
    "collapsed": true
   },
   "outputs": [],
   "source": [
    "def copy_weights(model):\n",
    "    weights = model.get_weights()\n",
    "    model_pred = build_model(vocab_size, n_fac, cs, 1, n_hidden, stateful=True)\n",
    "    model_pred.set_weights(weights)\n",
    "    return model_pred"
   ]
  },
  {
   "cell_type": "code",
   "execution_count": 48,
   "metadata": {},
   "outputs": [],
   "source": [
    "model_pred = copy_weights(model_state2)"
   ]
  },
  {
   "cell_type": "markdown",
   "metadata": {},
   "source": [
    "## Test Model"
   ]
  },
  {
   "cell_type": "code",
   "execution_count": 36,
   "metadata": {
    "collapsed": true
   },
   "outputs": [],
   "source": [
    "def print_example(seed_string, len_seq):\n",
    "    for i in range(len_seq):\n",
    "        x=np.array([char2idx[c] for c in seed_string[-cs:]])[np.newaxis,:]\n",
    "        preds = model_pred.predict(x, verbose=0)[0][-1]\n",
    "        preds = preds/np.sum(preds)\n",
    "        next_char = choice(chars, p=preds)\n",
    "        seed_string = seed_string + next_char\n",
    "    print(seed_string)"
   ]
  },
  {
   "cell_type": "code",
   "execution_count": 37,
   "metadata": {},
   "outputs": [
    {
     "name": "stdout",
     "output_type": "stream",
     "text": [
      "Harry picked up Hedwig’s cage, his Firebolt and his rucksack, gave his unnaturally tidy bedroom one last sweeping look and then made his ungainly way back downstairs to the hall, where he deposited cage, broomstick and bag near the foot of the stairs. The light\n"
     ]
    }
   ],
   "source": [
    "seed = 'Harry picked up Hedwig’s cage, his Firebolt and his rucksack, gave his unnaturally tidy bedroom one last sweeping look and then made his ungainly way back downstairs to the hall, where he deposited cage, broomstick and bag near the foot of the stairs. The light'\n",
    "print(seed)"
   ]
  },
  {
   "cell_type": "code",
   "execution_count": 66,
   "metadata": {},
   "outputs": [
    {
     "data": {
      "text/plain": [
       "'g near the foot of the stairs. The light'"
      ]
     },
     "execution_count": 66,
     "metadata": {},
     "output_type": "execute_result"
    }
   ],
   "source": [
    "seed[-40:]"
   ]
  },
  {
   "cell_type": "code",
   "execution_count": 49,
   "metadata": {},
   "outputs": [
    {
     "name": "stdout",
     "output_type": "stream",
     "text": [
      "Harry picked up Hedwig’s cage, his Firebolt and his rucksack, gave his unnaturally tidy bedroom one last sweeping look and then made his ungainly way back downstairs to the hall, where he deposited cage, broomstick and bag near the foot of the stairs. The light the bangs closed the silence and grabpelled by his brief, joaning.\r\n",
      "\r\n",
      "What was a great, looked ready that the barman leaned stretching on him; she vanished the carry, he could not listen.\r\n",
      "\r\n",
      "‘STOP!’ he said it, but Harry could feel him … well what had heard who call from an house asride flike in his pretence. She did not reply through the tocks of Hagrid, after five step suffering enthusiastically. Harry was slamming damn, small wooden colour and sniggered like Harry.\r\n",
      "\r\n",
      "‘But … you couldn’t hear him, speaking around … what about a Patronus was face, pointing to Harry. Don’t see ze used to let me a dozen days boy.’\r\n",
      "\r\n",
      "‘Don’t live to tell him that,’ said Narcissa. Jone different driverback alond beside his face.\r\n",
      "\r\n",
      "‘Un The statch things … no, it happened, but at \n"
     ]
    }
   ],
   "source": [
    "print_example(seed, 800)"
   ]
  },
  {
   "cell_type": "code",
   "execution_count": null,
   "metadata": {
    "collapsed": true
   },
   "outputs": [],
   "source": []
  }
 ],
 "metadata": {
  "anaconda-cloud": {},
  "kernelspec": {
   "display_name": "Python 2",
   "language": "python",
   "name": "python2"
  },
  "language_info": {
   "codemirror_mode": {
    "name": "ipython",
    "version": 2
   },
   "file_extension": ".py",
   "mimetype": "text/x-python",
   "name": "python",
   "nbconvert_exporter": "python",
   "pygments_lexer": "ipython2",
   "version": "2.7.13"
  },
  "toc": {
   "nav_menu": {},
   "number_sections": true,
   "sideBar": true,
   "skip_h1_title": true,
   "toc_cell": true,
   "toc_position": {},
   "toc_section_display": "block",
   "toc_window_display": false
  }
 },
 "nbformat": 4,
 "nbformat_minor": 2
}
