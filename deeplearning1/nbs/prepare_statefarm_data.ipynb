{
 "cells": [
  {
   "cell_type": "markdown",
   "metadata": {},
   "source": [
    "```\n",
    "DATA_DIR/\n",
    "    test/\n",
    "        unknown/ - Need to move those\n",
    "            img_<num>.jpg\n",
    "    train/\n",
    "        c0/\n",
    "        ...\n",
    "        c9/\n",
    "            img_<num>.jpg\n",
    "    [We need to create and move files by driver!]\n",
    "    valid/\n",
    "        c0/\n",
    "        ...\n",
    "        c9/\n",
    "            img_<num>.jpg - valid_size\n",
    "    [And then copy]\n",
    "    sample/\n",
    "        train/\n",
    "            c0/\n",
    "            ...\n",
    "            c9/\n",
    "                img_<num>.jpg - sample_train_size\n",
    "        valid/\n",
    "            c0/\n",
    "            ...\n",
    "            c9/\n",
    "                img_<num>.jpg - sample_valid_size\n",
    "        test/\n",
    "            unknown/ - Need to move those\n",
    "                img_<num>.jpg\n",
    "```"
   ]
  },
  {
   "cell_type": "code",
   "execution_count": 4,
   "metadata": {
    "collapsed": true
   },
   "outputs": [],
   "source": [
    "# Prepare the statefarm data for training\n",
    "# Assumes the data is already unzipped\n",
    "DATA_DIR = '/home/ubuntu/courses/data/statefarm/'"
   ]
  },
  {
   "cell_type": "code",
   "execution_count": 5,
   "metadata": {
    "collapsed": false
   },
   "outputs": [],
   "source": [
    "# Create all the directories\n",
    "for i in range(10):\n",
    "    stri = str(i)\n",
    "    %mkdir -p $DATA_DIR/valid/c$stri\n",
    "    %mkdir -p $DATA_DIR/sample/valid/c$stri\n",
    "    %mkdir -p $DATA_DIR/sample/train/c$stri\n",
    "%mkdir -p $DATA_DIR/sample/test/unknown\n",
    "%mkdir -p $DATA_DIR/test/unknown"
   ]
  },
  {
   "cell_type": "code",
   "execution_count": 6,
   "metadata": {
    "collapsed": false
   },
   "outputs": [
    {
     "name": "stdout",
     "output_type": "stream",
     "text": [
      "/bin/sh: 1: mv: Argument list too long\r\n"
     ]
    }
   ],
   "source": [
    "# For keras we need to move all test files in a subdirectory unknown\n",
    "%mv $DATA_DIR/test/ $DATA_DIR/unknown/\n",
    "%mkdir $DATA_DIR/test\n",
    "%mv $DATA_DIR/unknown/ $DATA_DIR/test/"
   ]
  },
  {
   "cell_type": "code",
   "execution_count": 7,
   "metadata": {
    "collapsed": true
   },
   "outputs": [],
   "source": [
    "# Now to create the validation set we better read the csv file\n",
    "import pandas as pd\n",
    "dil = pd.read_csv(DATA_DIR + 'driver_imgs_list.csv')"
   ]
  },
  {
   "cell_type": "code",
   "execution_count": 9,
   "metadata": {
    "collapsed": false
   },
   "outputs": [],
   "source": [
    "# From http://forums.fast.ai/t/statefarm-kaggle-comp/183/21\n",
    "grouped = dil.groupby('subject')"
   ]
  },
  {
   "cell_type": "code",
   "execution_count": 22,
   "metadata": {
    "collapsed": false
   },
   "outputs": [
    {
     "data": {
      "text/plain": [
       "26"
      ]
     },
     "execution_count": 22,
     "metadata": {},
     "output_type": "execute_result"
    }
   ],
   "source": [
    "len(grouped.groups)"
   ]
  },
  {
   "cell_type": "code",
   "execution_count": 18,
   "metadata": {
    "collapsed": false
   },
   "outputs": [],
   "source": [
    "import numpy as np\n",
    "nb_drivers_valid = 3\n",
    "subjects = [grouped.groups.keys()[i] for \n",
    "            i in np.random.randint(0, len(grouped.groups)-1, \n",
    "                                   nb_drivers_valid)]"
   ]
  },
  {
   "cell_type": "code",
   "execution_count": 19,
   "metadata": {
    "collapsed": false
   },
   "outputs": [
    {
     "data": {
      "text/plain": [
       "['p015', 'p056', 'p064']"
      ]
     },
     "execution_count": 19,
     "metadata": {},
     "output_type": "execute_result"
    }
   ],
   "source": [
    "subjects"
   ]
  },
  {
   "cell_type": "code",
   "execution_count": 20,
   "metadata": {
    "collapsed": false
   },
   "outputs": [],
   "source": [
    "group = grouped.get_group(subjects[0])"
   ]
  },
  {
   "cell_type": "code",
   "execution_count": 24,
   "metadata": {
    "collapsed": false
   },
   "outputs": [
    {
     "data": {
      "text/plain": [
       "array([['p015', 'c0', 'img_48693.jpg'],\n",
       "       ['p015', 'c0', 'img_44903.jpg'],\n",
       "       ['p015', 'c0', 'img_58514.jpg'],\n",
       "       ..., \n",
       "       ['p015', 'c9', 'img_86098.jpg'],\n",
       "       ['p015', 'c9', 'img_28068.jpg'],\n",
       "       ['p015', 'c9', 'img_13997.jpg']], dtype=object)"
      ]
     },
     "execution_count": 24,
     "metadata": {},
     "output_type": "execute_result"
    }
   ],
   "source": [
    "group.values"
   ]
  },
  {
   "cell_type": "code",
   "execution_count": 26,
   "metadata": {
    "collapsed": false
   },
   "outputs": [],
   "source": [
    "import os\n",
    "for sub in subjects:\n",
    "    group = grouped.get_group(sub)\n",
    "    for (s, cls, img) in group.values:\n",
    "        source = DATA_DIR + 'train/%s/%s' % (cls, img)\n",
    "        target = source.replace('train', 'valid')\n",
    "        os.rename(source, target)"
   ]
  },
  {
   "cell_type": "code",
   "execution_count": 28,
   "metadata": {
    "collapsed": false
   },
   "outputs": [],
   "source": [
    "# Copy the sample files\n",
    "sample_train_size = 100\n",
    "sample_valid_size = 20\n",
    "sample_test_size = 100\n",
    "from shutil import copyfile\n",
    "import glob\n",
    "for i in range(10):\n",
    "    fns = glob.glob(DATA_DIR + 'valid/c%i/*.jpg' % i)\n",
    "    shuf = np.random.permutation(fns)\n",
    "    for j in range(sample_valid_size): \n",
    "        copyfile(shuf[j], DATA_DIR + 'sample/valid/c%i/%s' % (i, shuf[j].split('/')[-1]))"
   ]
  },
  {
   "cell_type": "code",
   "execution_count": 29,
   "metadata": {
    "collapsed": true
   },
   "outputs": [],
   "source": [
    "for i in range(10):\n",
    "    fns = glob.glob(DATA_DIR + 'train/c%i/*.jpg' % i)\n",
    "    shuf = np.random.permutation(fns)\n",
    "    for j in range(sample_train_size): copyfile(shuf[j], DATA_DIR + 'sample/train/c%i/%s' % (i, shuf[j].split('/')[-1]))"
   ]
  },
  {
   "cell_type": "code",
   "execution_count": 30,
   "metadata": {
    "collapsed": true
   },
   "outputs": [],
   "source": [
    "fns = glob.glob(DATA_DIR + 'test/unknown/*.jpg')\n",
    "shuf = np.random.permutation(fns)\n",
    "for j in range(sample_test_size): copyfile(shuf[j], DATA_DIR + 'sample/test/unknown/%s' % shuf[j].split('/')[-1])"
   ]
  },
  {
   "cell_type": "code",
   "execution_count": null,
   "metadata": {
    "collapsed": true
   },
   "outputs": [],
   "source": [
    "# All done! Nice!"
   ]
  }
 ],
 "metadata": {
  "kernelspec": {
   "display_name": "Python [conda root]",
   "language": "python",
   "name": "conda-root-py"
  },
  "language_info": {
   "codemirror_mode": {
    "name": "ipython",
    "version": 2
   },
   "file_extension": ".py",
   "mimetype": "text/x-python",
   "name": "python",
   "nbconvert_exporter": "python",
   "pygments_lexer": "ipython2",
   "version": "2.7.12"
  }
 },
 "nbformat": 4,
 "nbformat_minor": 1
}
